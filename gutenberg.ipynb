{
 "cells": [
  {
   "cell_type": "code",
   "execution_count": 1,
   "id": "c0f5b6c7",
   "metadata": {},
   "outputs": [
    {
     "name": "stdout",
     "output_type": "stream",
     "text": [
      "\n",
      "# conda environments:\n",
      "#\n",
      "base                   C:\\Users\\matth\\miniconda3\n",
      "final-project-pt1      C:\\Users\\matth\\miniconda3\\envs\\final-project-pt1\n",
      "h501-gutenberg       * C:\\Users\\matth\\miniconda3\\envs\\h501-gutenberg\n",
      "test_environment       C:\\Users\\matth\\miniconda3\\envs\\test_environment\n",
      "\n"
     ]
    }
   ],
   "source": [
    "!conda env list"
   ]
  },
  {
   "cell_type": "markdown",
   "id": "1185a3f0",
   "metadata": {},
   "source": [
    "<U><b>Exercise 3<b><u>"
   ]
  },
  {
   "cell_type": "code",
   "execution_count": 5,
   "id": "786cd00c",
   "metadata": {},
   "outputs": [],
   "source": [
    "import pandas\n",
    "import numpy as np"
   ]
  },
  {
   "cell_type": "code",
   "execution_count": 8,
   "id": "5f08059b",
   "metadata": {},
   "outputs": [
    {
     "ename": "ValueError",
     "evalue": "too many values to unpack (expected 3)",
     "output_type": "error",
     "traceback": [
      "\u001b[31m---------------------------------------------------------------------------\u001b[39m",
      "\u001b[31mValueError\u001b[39m                                Traceback (most recent call last)",
      "\u001b[36mCell\u001b[39m\u001b[36m \u001b[39m\u001b[32mIn[8]\u001b[39m\u001b[32m, line 3\u001b[39m\n\u001b[32m      1\u001b[39m \u001b[38;5;28;01mfrom\u001b[39;00m\u001b[38;5;250m \u001b[39m\u001b[34;01mtt_gutenberg\u001b[39;00m\u001b[34;01m.\u001b[39;00m\u001b[34;01mauthors\u001b[39;00m\u001b[38;5;250m \u001b[39m\u001b[38;5;28;01mimport\u001b[39;00m *\n\u001b[32m----> \u001b[39m\u001b[32m3\u001b[39m \u001b[43mlist_authors\u001b[49m\u001b[43m(\u001b[49m\u001b[43mby_languages\u001b[49m\u001b[43m \u001b[49m\u001b[43m=\u001b[49m\u001b[43m \u001b[49m\u001b[38;5;28;43;01mTrue\u001b[39;49;00m\u001b[43m,\u001b[49m\u001b[43m \u001b[49m\u001b[43malias\u001b[49m\u001b[43m=\u001b[49m\u001b[38;5;28;43;01mTrue\u001b[39;49;00m\u001b[43m)\u001b[49m\n",
      "\u001b[36mFile \u001b[39m\u001b[32mc:\\Users\\matth\\OneDrive\\Documents\\Intro to Data Science Programming\\Projects\\h501-gutenberg\\tt_gutenberg\\authors.py:14\u001b[39m, in \u001b[36mlist_authors\u001b[39m\u001b[34m(by_languages, alias)\u001b[39m\n\u001b[32m      3\u001b[39m \u001b[38;5;28;01mdef\u001b[39;00m\u001b[38;5;250m \u001b[39m\u001b[34mlist_authors\u001b[39m(by_languages=\u001b[38;5;28;01mTrue\u001b[39;00m, alias=\u001b[38;5;28;01mTrue\u001b[39;00m):\n\u001b[32m      4\u001b[39m \u001b[38;5;250m    \u001b[39m\u001b[33;03m\"\"\"\u001b[39;00m\n\u001b[32m      5\u001b[39m \u001b[33;03m    List author aliases ordered by translation count.\u001b[39;00m\n\u001b[32m      6\u001b[39m \n\u001b[32m   (...)\u001b[39m\u001b[32m     12\u001b[39m \u001b[33;03m        List of author aliases\u001b[39;00m\n\u001b[32m     13\u001b[39m \u001b[33;03m    \"\"\"\u001b[39;00m\n\u001b[32m---> \u001b[39m\u001b[32m14\u001b[39m     authors, metadata, languages = load_data()\n\u001b[32m     15\u001b[39m     \u001b[38;5;28;01mif\u001b[39;00m by_languages:\n\u001b[32m     16\u001b[39m         counts = count_translations_by_author(authors, metadata, languages, alias=alias)\n",
      "\u001b[31mValueError\u001b[39m: too many values to unpack (expected 3)"
     ]
    }
   ],
   "source": [
    "from tt_gutenberg.authors import *\n",
    "\n",
    "list_authors(by_languages = True, alias=True)"
   ]
  }
 ],
 "metadata": {
  "kernelspec": {
   "display_name": "h501-gutenberg",
   "language": "python",
   "name": "python3"
  },
  "language_info": {
   "codemirror_mode": {
    "name": "ipython",
    "version": 3
   },
   "file_extension": ".py",
   "mimetype": "text/x-python",
   "name": "python",
   "nbconvert_exporter": "python",
   "pygments_lexer": "ipython3",
   "version": "3.12.11"
  }
 },
 "nbformat": 4,
 "nbformat_minor": 5
}
